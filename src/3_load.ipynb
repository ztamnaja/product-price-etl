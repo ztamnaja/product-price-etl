{
 "cells": [
  {
   "attachments": {},
   "cell_type": "markdown",
   "metadata": {},
   "source": [
    "# PART 3 Load data\n",
    "This process perform load data action to sqlite. \\\n",
    "First step we need to create table and schema \\\n",
    "Second, load data from tmp_data folder that have prefix name is \"prep\" + {search_term} and then load data to sqlite "
   ]
  },
  {
   "attachments": {
    "image-2.png": {
     "image/png": "[encoded data removed]"
    }
   },
   "cell_type": "markdown",
   "metadata": {},
   "source": [
    "![image.png](attachment:image-2.png)"
   ]
  },
  {
   "cell_type": "code",
   "execution_count": 5,
   "metadata": {},
   "outputs": [],
   "source": [
    "search_term = 'keychron k4'"
   ]
  },
  {
   "attachments": {},
   "cell_type": "markdown",
   "metadata": {},
   "source": [
    "____\n",
    "## 3.1 Create table \n",
    "create table name is \"product_price\" to collect data that we process on last steps using sqlite database"
   ]
  },
  {
   "cell_type": "code",
   "execution_count": 1,
   "metadata": {},
   "outputs": [],
   "source": [
    "import sqlite3\n",
    "import pandas as pd\n",
    "\n",
    "TABLE_NAME = 'product_price'\n",
    "TEMP_DATA = '../tmp_data'\n",
    "CONFIG = '../config'\n",
    "def sqlite_connect():\n",
    "    return sqlite3.connect(f'{CONFIG}/product_price_demo.db')\n",
    "    \n",
    "def migrate_table():\n",
    "    conn = sqlite_connect()\n",
    "    cursor = conn.cursor()\n",
    "\n",
    "    cursor.execute(f\"\"\" CREATE TABLE if not exists {TABLE_NAME} (\n",
    "        \"product_name\" varchar NOT NULL,\n",
    "        \"price\" float8 NOT NULL,\n",
    "        \"store_name\" varchar,\n",
    "        \"sold\" integer,\n",
    "        \"brand_name\" varchar,\n",
    "        \"specification\" varchar,\n",
    "        \"platform\" varchar,\n",
    "        \"search\" varchar,\n",
    "        \"alink\" varchar,\n",
    "        \"created_at\" TIMESTAMP DEFAULT CURRENT_TIMESTAMP NOT NULL,\n",
    "        \"updated_at\" TIMESTAMP DEFAULT CURRENT_TIMESTAMP NOT NULL,\n",
    "        \"deleted_at\" TIMESTAMP,\n",
    "        PRIMARY KEY (\"product_name\", \"store_name\", \"platform\")\n",
    "        )\"\"\"\n",
    "    )\n",
    "    print('migrate table success')\n",
    "    conn.commit()\n",
    "    conn.close()"
   ]
  },
  {
   "cell_type": "code",
   "execution_count": 2,
   "metadata": {},
   "outputs": [
    {
     "name": "stdout",
     "output_type": "stream",
     "text": [
      "migrate table success\n"
     ]
    }
   ],
   "source": [
    "# run migrate table and schema\n",
    "migrate_table()"
   ]
  },
  {
   "attachments": {},
   "cell_type": "markdown",
   "metadata": {},
   "source": [
    "____\n",
    "## 3.2 Load data\n",
    "- Get clean data from tmp_data folder by  prep_{search_term}\n",
    "- Load data to database"
   ]
  },
  {
   "cell_type": "code",
   "execution_count": 6,
   "metadata": {},
   "outputs": [
    {
     "name": "stdout",
     "output_type": "stream",
     "text": [
      "load data (176) success\n"
     ]
    }
   ],
   "source": [
    "def load_data(search_term):\n",
    "  \n",
    "  filename = search_term.replace(' ','_')\n",
    "  df = pd.read_csv(f'{TEMP_DATA}/prep_{filename}.csv')\n",
    "  \n",
    "  conn = sqlite_connect()\n",
    "  cursor = conn.cursor()\n",
    "  \n",
    "  df.to_sql(TABLE_NAME, conn, if_exists='replace', index=False)\n",
    "  \n",
    "  print(f'load data ({len(df)}) success')\n",
    "  conn.commit()\n",
    "  conn.close()\n",
    "  \n",
    "  \n",
    "load_data(search_term)"
   ]
  }
 ],
 "metadata": {
  "kernelspec": {
   "display_name": "Python 3",
   "language": "python",
   "name": "python3"
  },
  "language_info": {
   "codemirror_mode": {
    "name": "ipython",
    "version": 3
   },
   "file_extension": ".py",
   "mimetype": "text/x-python",
   "name": "python",
   "nbconvert_exporter": "python",
   "pygments_lexer": "ipython3",
   "version": "3.9.1"
  },
  "orig_nbformat": 4,
  "vscode": {
   "interpreter": {
    "hash": "763b8da4a79ad11e4f32e866ced499328a337549e2659251c34b52d077063d81"
   }
  }
 },
 "nbformat": 4,
 "nbformat_minor": 2
}
